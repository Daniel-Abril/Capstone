{
 "cells": [
  {
   "cell_type": "markdown",
   "metadata": {},
   "source": [
    "# Opening a Bar in Paris\n",
    "## Introduction\n",
    "#### Openinng a bar in Paris isn't as easy as it sounds. The investor or the potential owner must know many things in advance to have a successful investment. One of the most important questions to answer is \"where should I open it?\". This is the question that will be ansewered in this report using an unsupervised machine learning algorithm.\n",
    "\n",
    "## Business Problem\n",
    "#### The Business Problem in this case is to find out where should a bar be opened in Paris. To do this, a machine learning process (KMeans Clustering) will be used to determine the area in Paris where bars and places to \"party\" can be found."
   ]
  },
  {
   "cell_type": "markdown",
   "metadata": {},
   "source": [
    "## Data\n",
    "#### The Data was obtained from different sources:\n",
    "#### Wikipedia: In Wikipedia I obtained the name of the different districts in Paris.\n",
    "#### Geocoder: With the geocoder library in Python I was able to  convert the names of the districts to coordinates with latitude and longitude values.\n",
    "#### With the Foursquare API I obtained all the information I needed from the venues in each district.\n"
   ]
  },
  {
   "cell_type": "markdown",
   "metadata": {},
   "source": [
    "## Methodology\n",
    "#### The Methodology used was an unsupervised machine learning technique called KMeans clustering. It is used to identify clusters of data objects in a dataset. It is unsupervised because it does not use labels to predict an outcome, it just finds patterns and similiraties between observations to group them in clusters. According to Daniel Nelson,  K-means clustering works by creating a reference point (a centroid) for a desired number of classes, and then assigning data points to class clusters based on which reference point is closest.\n",
    "#### In this case, the clustering technique mentioned previously was used to cluster the venues in the different districts of Paris. With this clusteting, the plan is to find out wich cluster is most suitable for opening a Bar in Paris based on the other venues around.\n"
   ]
  },
  {
   "cell_type": "markdown",
   "metadata": {},
   "source": [
    "## Results\n",
    "#### We were able to distinguish 5 clusters. Althoug in many of therm, the most common type of venue was French Restaurant, the one we were looking for was very distinguishable (\"Bar and party\" cluster):\n",
    "#### -Cluster 0: This cluster can be thought of as a Typical touristic cluster in which there are several hotels and french restaurants.\n",
    "#### -Cluster 1:This Cluster is for toursists looking for an area where they can get some cheap food instead of only fancy restaurants.\n",
    "#### -Cluster 2:This Cluster is a an area for people to have some drinks and party, there are a lot of bars and fast food. Basically a cluster to have a good time.\n",
    "#### -Cluster 3:This cluster includes a lot of French Restaurants but is also combined with fast food such as ice creams and pizza restaurants. It's not a really fancy cluster such as the Cluster 0.\n",
    "#### -Cluster 4:This cluster is mostly about having all the necessary supplies for a tourist, which is why there are plenty supermarkets, bistro, hotels and coffee shops\n",
    "#### As we can see, the Cluster #2 is the one that we're looking for and where the bar should be opened in Paris.\n",
    "\n"
   ]
  },
  {
   "cell_type": "markdown",
   "metadata": {},
   "source": [
    "## Discussion\n",
    "#### The machine learning process used (KMeans Clustering), is a very efficient and easy for computer processing method to find groups and distinguish between different observations. This technique is just a taste of what Machine Learning can do for us when having appropiate data (which is 90% of the time done by humans in the preprocessing stage). \n",
    "#### We were able to find out where would it be appropiate to open a Bar in Paris. Thanks to Python, its libraries and platforms such as Foursquare, we can do this type of analysis in almost any city around the world."
   ]
  }
 ],
 "metadata": {
  "kernelspec": {
   "display_name": "Python 3",
   "language": "python",
   "name": "python3"
  },
  "language_info": {
   "codemirror_mode": {
    "name": "ipython",
    "version": 3
   },
   "file_extension": ".py",
   "mimetype": "text/x-python",
   "name": "python",
   "nbconvert_exporter": "python",
   "pygments_lexer": "ipython3",
   "version": "3.8.5"
  }
 },
 "nbformat": 4,
 "nbformat_minor": 4
}
