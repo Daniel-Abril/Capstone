{
 "cells": [
  {
   "cell_type": "markdown",
   "metadata": {},
   "source": [
    "# Opening a Bar in Paris\n",
    "## Introduction\n",
    "#### Openinng a bar in Paris isn't as easy as it sounds. The investor or the potential owner must know many things in advance to have a successful investment. One of the most important questions to answer is \"where should I open it?\". This is the question that will be ansewered in this report using an unsupervised machine learning algorithm.\n",
    "\n",
    "## Business Problem\n",
    "#### The Business Problem in this case is to find out where should a bar be opened in Paris. To do this, a machine learning process (KMeans Clustering) will be used to determine the area in Paris where bars and places to \"party\" can be found."
   ]
  },
  {
   "attachments": {},
   "cell_type": "markdown",
   "metadata": {},
   "source": [
    "## Data\n",
    "#### The Data was obtained from different sources:\n",
    "#### Wikipedia: In Wikipedia I obtained the name of the different districts in Paris.\n",
    "#### Geocoder: With the geocoder library in Python I was able to  convert the names of the districts to coordinates with latitude and longitude values.\n",
    "#### With the Foursquare API I obtained all the information I needed from the venues in each district.\n"
   ]
  }
 ],
 "metadata": {
  "kernelspec": {
   "display_name": "Python 3",
   "language": "python",
   "name": "python3"
  },
  "language_info": {
   "codemirror_mode": {
    "name": "ipython",
    "version": 3
   },
   "file_extension": ".py",
   "mimetype": "text/x-python",
   "name": "python",
   "nbconvert_exporter": "python",
   "pygments_lexer": "ipython3",
   "version": "3.8.5"
  }
 },
 "nbformat": 4,
 "nbformat_minor": 4
}
